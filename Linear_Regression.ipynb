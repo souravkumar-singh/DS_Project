{
  "nbformat": 4,
  "nbformat_minor": 0,
  "metadata": {
    "colab": {
      "provenance": [],
      "authorship_tag": "ABX9TyPkF0FgG25b5/wtEZ9JCnWk",
      "include_colab_link": true
    },
    "kernelspec": {
      "name": "python3",
      "display_name": "Python 3"
    },
    "language_info": {
      "name": "python"
    }
  },
  "cells": [
    {
      "cell_type": "markdown",
      "metadata": {
        "id": "view-in-github",
        "colab_type": "text"
      },
      "source": [
        "<a href=\"https://colab.research.google.com/github/souravkumar-singh/DS_Project/blob/main/Linear_Regression.ipynb\" target=\"_parent\"><img src=\"https://colab.research.google.com/assets/colab-badge.svg\" alt=\"Open In Colab\"/></a>"
      ]
    },
    {
      "cell_type": "code",
      "execution_count": 1,
      "metadata": {
        "id": "IGBmpYQLiRyD"
      },
      "outputs": [],
      "source": [
        "import numpy as np\n",
        "import pandas as pd"
      ]
    },
    {
      "cell_type": "code",
      "source": [
        "link = r'https://raw.githubusercontent.com/AshishJangra27/Machine-Learning-with-Python-GFG/main/Linear%20Regression/data_for_lr.csv'\n",
        "df=pd.read_csv(link)\n"
      ],
      "metadata": {
        "id": "rZn2EzBeiZBA"
      },
      "execution_count": 2,
      "outputs": []
    },
    {
      "cell_type": "markdown",
      "source": [
        "**Data** **Processing**"
      ],
      "metadata": {
        "id": "_ePpUOiat5OF"
      }
    },
    {
      "cell_type": "code",
      "source": [
        "df=df.dropna()\n",
        "print(\"Shape of data\", df.shape)"
      ],
      "metadata": {
        "colab": {
          "base_uri": "https://localhost:8080/"
        },
        "id": "CX7C_Q8Ft41F",
        "outputId": "f826de57-dc8f-49f4-ac32-583eab7126eb"
      },
      "execution_count": 3,
      "outputs": [
        {
          "output_type": "stream",
          "name": "stdout",
          "text": [
            "Shape of data (699, 2)\n"
          ]
        }
      ]
    },
    {
      "cell_type": "markdown",
      "source": [
        "**Splitting Data**"
      ],
      "metadata": {
        "id": "rZdcNMlluKbx"
      }
    },
    {
      "cell_type": "code",
      "source": [
        "#training input and output data\n",
        "x_train=np.array(df.x[0:500]).reshape(500,1)\n",
        "y_train=np.array(df.y[0:500]).reshape(500,1)\n",
        "\n",
        "#test input and output data\n",
        "x_test=np.array(df.x[500:699]).reshape(199,1)\n",
        "y_test=np.array(df.y[500:699]).reshape(199,1)"
      ],
      "metadata": {
        "id": "0-RkxrIPuGT1"
      },
      "execution_count": 4,
      "outputs": []
    },
    {
      "cell_type": "code",
      "source": [
        "print(\"Shape of train \", x_train.shape, y_train.shape)\n",
        "print(\"Shape of test \", x_test.shape, y_test.shape)"
      ],
      "metadata": {
        "colab": {
          "base_uri": "https://localhost:8080/"
        },
        "id": "l-vtrFBKvtSJ",
        "outputId": "f43d48c0-8571-4790-af43-3c7a157bdcda"
      },
      "execution_count": 5,
      "outputs": [
        {
          "output_type": "stream",
          "name": "stdout",
          "text": [
            "Shape of train  (500, 1) (500, 1)\n",
            "Shape of test  (199, 1) (199, 1)\n"
          ]
        }
      ]
    },
    {
      "cell_type": "markdown",
      "source": [
        "**<font color=\"green\">Linear Regression</font>**"
      ],
      "metadata": {
        "id": "8c0JT__Yw5w5"
      }
    },
    {
      "cell_type": "markdown",
      "source": [
        "**Forward Propagation**"
      ],
      "metadata": {
        "id": "HA1B-1CNxHNl"
      }
    },
    {
      "cell_type": "code",
      "source": [
        "def forward_propagation(parameters, x_train):\n",
        "  m=parameters[\"m\"]\n",
        "  c=parameters[\"c\"]\n",
        "  y_pred=np.multiply(m,x_train)+c\n",
        "\n",
        "  return y_pred;"
      ],
      "metadata": {
        "id": "f-tLQ-u3wpmR"
      },
      "execution_count": 6,
      "outputs": []
    },
    {
      "cell_type": "markdown",
      "source": [
        "**Cost Function**"
      ],
      "metadata": {
        "id": "uDXz3wVvE5Hd"
      }
    },
    {
      "cell_type": "code",
      "source": [
        "def cost_function(y_pred, y_train):\n",
        "  cost=np.mean((y_pred-y_train)**2)\n",
        "  return cost"
      ],
      "metadata": {
        "id": "ettBCpsV5nXR"
      },
      "execution_count": 49,
      "outputs": []
    },
    {
      "cell_type": "markdown",
      "source": [
        "**Backward Propagation**"
      ],
      "metadata": {
        "id": "7_lPQCTEE9Lw"
      }
    },
    {
      "cell_type": "code",
      "source": [
        "def backward_propagation(y_pred, y_train, x_train):\n",
        "  dm=np.mean(np.multiply(y_pred-y_train,x_train))\n",
        "  dc=np.mean(y_pred-y_train)\n",
        "\n",
        "  derivatives=dict()\n",
        "  derivatives[\"dm\"]=dm\n",
        "  derivatives[\"dc\"]=dc\n",
        "\n",
        "  return derivatives"
      ],
      "metadata": {
        "id": "2okne8mg575m"
      },
      "execution_count": 36,
      "outputs": []
    },
    {
      "cell_type": "markdown",
      "source": [
        "**Updating Parameters**"
      ],
      "metadata": {
        "id": "eHWnwd8jFBm8"
      }
    },
    {
      "cell_type": "code",
      "source": [
        "def update_parameter(parameters, derivatives, learning_rate):\n",
        "  parameters[\"m\"] = parameters[\"m\"]- ( learning_rate * derivatives[\"dm\"])\n",
        "  parameters[\"c\"] = parameters[\"c\"]- ( learning_rate * derivatives[\"dc\"])\n",
        "\n",
        "  return parameters"
      ],
      "metadata": {
        "id": "7CxhVAZO9lRu"
      },
      "execution_count": 13,
      "outputs": []
    },
    {
      "cell_type": "markdown",
      "source": [
        "**Model Training**"
      ],
      "metadata": {
        "id": "XKFoMbGUFHRT"
      }
    },
    {
      "cell_type": "code",
      "source": [
        "def train(x_train, y_train, learning_rate, iters):\n",
        "\n",
        "  #random parameters\n",
        "  parameters = dict()\n",
        "  parameters[\"m\"] = np.random.uniform(0,1)\n",
        "  parameters[\"c\"] = np.random.uniform(0,1)\n",
        "\n",
        "  loss = list()\n",
        "  for i in range(iters):\n",
        "    #forward propagation\n",
        "    y_pred = forward_propagation(parameters,x_train)\n",
        "\n",
        "    #cost function\n",
        "    cost = cost_function(y_pred, y_train)\n",
        "    loss.append(cost)\n",
        "\n",
        "    #backward propagation\n",
        "    derivatives = backward_propagation(y_pred, y_train, x_train)\n",
        "\n",
        "    #updated parameters\n",
        "    parameters = update_parameter(parameters, derivatives, learning_rate)\n",
        "\n",
        "  return parameters, loss\n",
        "\n",
        ""
      ],
      "metadata": {
        "id": "_5Xy7wrpE4DP"
      },
      "execution_count": 51,
      "outputs": []
    },
    {
      "cell_type": "markdown",
      "source": [
        "**Training**"
      ],
      "metadata": {
        "id": "e5tInB5PGjwA"
      }
    },
    {
      "cell_type": "code",
      "source": [
        "parameters, loss =train(x_train,y_train,0.0001,20)"
      ],
      "metadata": {
        "id": "VbKJSjsNGoLE"
      },
      "execution_count": 52,
      "outputs": []
    },
    {
      "cell_type": "code",
      "source": [
        "print(parameters)"
      ],
      "metadata": {
        "colab": {
          "base_uri": "https://localhost:8080/"
        },
        "id": "UdnA3DK6H-wL",
        "outputId": "10ace8cd-f1a1-48c9-d753-80b06eba277f"
      },
      "execution_count": 53,
      "outputs": [
        {
          "output_type": "stream",
          "name": "stdout",
          "text": [
            "{'m': 0.9903970898129812, 'c': 0.44773515708702827}\n"
          ]
        }
      ]
    },
    {
      "cell_type": "markdown",
      "source": [
        "**Let's Predict**"
      ],
      "metadata": {
        "id": "g4Fh_eOKGxUk"
      }
    },
    {
      "cell_type": "code",
      "source": [
        "from matplotlib import pyplot as plt\n",
        "\n",
        "test_prediction = x_test * parameters[\"m\"]+parameters[\"c\"]\n",
        "plt.plot(x_test,test_prediction,\"+\")\n",
        "plt.plot(x_test,y_test,\".\")\n",
        "plt.show()"
      ],
      "metadata": {
        "colab": {
          "base_uri": "https://localhost:8080/",
          "height": 430
        },
        "id": "YOAa8s3DG0Lc",
        "outputId": "ae2c9f0b-e515-4085-a016-c43bb579a482"
      },
      "execution_count": 54,
      "outputs": [
        {
          "output_type": "display_data",
          "data": {
            "text/plain": [
              "<Figure size 640x480 with 1 Axes>"
            ],
            "image/png": "[encoded data removed]"
          },
          "metadata": {}
        }
      ]
    },
    {
      "cell_type": "markdown",
      "source": [
        "<font color =\"sky blue\" size=5> Linear Regression Using ScikitLearn</font>"
      ],
      "metadata": {
        "id": "RMkHDupxNeLK"
      }
    },
    {
      "cell_type": "code",
      "source": [
        "from sklearn.linear_model import LinearRegression\n",
        "\n",
        "lr_model=LinearRegression()\n",
        "lr_model.fit(x_train,y_train)"
      ],
      "metadata": {
        "colab": {
          "base_uri": "https://localhost:8080/",
          "height": 75
        },
        "id": "mAoaipkeNtRf",
        "outputId": "265e04dc-685b-4b22-eaa8-0e267f48f869"
      },
      "execution_count": 41,
      "outputs": [
        {
          "output_type": "execute_result",
          "data": {
            "text/plain": [
              "LinearRegression()"
            ],
            "text/html": [
              "<style>#sk-container-id-1 {color: black;background-color: white;}#sk-container-id-1 pre{padding: 0;}#sk-container-id-1 div.sk-toggleable {background-color: white;}#sk-container-id-1 label.sk-toggleable__label {cursor: pointer;display: block;width: 100%;margin-bottom: 0;padding: 0.3em;box-sizing: border-box;text-align: center;}#sk-container-id-1 label.sk-toggleable__label-arrow:before {content: \"▸\";float: left;margin-right: 0.25em;color: #696969;}#sk-container-id-1 label.sk-toggleable__label-arrow:hover:before {color: black;}#sk-container-id-1 div.sk-estimator:hover label.sk-toggleable__label-arrow:before {color: black;}#sk-container-id-1 div.sk-toggleable__content {max-height: 0;max-width: 0;overflow: hidden;text-align: left;background-color: #f0f8ff;}#sk-container-id-1 div.sk-toggleable__content pre {margin: 0.2em;color: black;border-radius: 0.25em;background-color: #f0f8ff;}#sk-container-id-1 input.sk-toggleable__control:checked~div.sk-toggleable__content {max-height: 200px;max-width: 100%;overflow: auto;}#sk-container-id-1 input.sk-toggleable__control:checked~label.sk-toggleable__label-arrow:before {content: \"▾\";}#sk-container-id-1 div.sk-estimator input.sk-toggleable__control:checked~label.sk-toggleable__label {background-color: #d4ebff;}#sk-container-id-1 div.sk-label input.sk-toggleable__control:checked~label.sk-toggleable__label {background-color: #d4ebff;}#sk-container-id-1 input.sk-hidden--visually {border: 0;clip: rect(1px 1px 1px 1px);clip: rect(1px, 1px, 1px, 1px);height: 1px;margin: -1px;overflow: hidden;padding: 0;position: absolute;width: 1px;}#sk-container-id-1 div.sk-estimator {font-family: monospace;background-color: #f0f8ff;border: 1px dotted black;border-radius: 0.25em;box-sizing: border-box;margin-bottom: 0.5em;}#sk-container-id-1 div.sk-estimator:hover {background-color: #d4ebff;}#sk-container-id-1 div.sk-parallel-item::after {content: \"\";width: 100%;border-bottom: 1px solid gray;flex-grow: 1;}#sk-container-id-1 div.sk-label:hover label.sk-toggleable__label {background-color: #d4ebff;}#sk-container-id-1 div.sk-serial::before {content: \"\";position: absolute;border-left: 1px solid gray;box-sizing: border-box;top: 0;bottom: 0;left: 50%;z-index: 0;}#sk-container-id-1 div.sk-serial {display: flex;flex-direction: column;align-items: center;background-color: white;padding-right: 0.2em;padding-left: 0.2em;position: relative;}#sk-container-id-1 div.sk-item {position: relative;z-index: 1;}#sk-container-id-1 div.sk-parallel {display: flex;align-items: stretch;justify-content: center;background-color: white;position: relative;}#sk-container-id-1 div.sk-item::before, #sk-container-id-1 div.sk-parallel-item::before {content: \"\";position: absolute;border-left: 1px solid gray;box-sizing: border-box;top: 0;bottom: 0;left: 50%;z-index: -1;}#sk-container-id-1 div.sk-parallel-item {display: flex;flex-direction: column;z-index: 1;position: relative;background-color: white;}#sk-container-id-1 div.sk-parallel-item:first-child::after {align-self: flex-end;width: 50%;}#sk-container-id-1 div.sk-parallel-item:last-child::after {align-self: flex-start;width: 50%;}#sk-container-id-1 div.sk-parallel-item:only-child::after {width: 0;}#sk-container-id-1 div.sk-dashed-wrapped {border: 1px dashed gray;margin: 0 0.4em 0.5em 0.4em;box-sizing: border-box;padding-bottom: 0.4em;background-color: white;}#sk-container-id-1 div.sk-label label {font-family: monospace;font-weight: bold;display: inline-block;line-height: 1.2em;}#sk-container-id-1 div.sk-label-container {text-align: center;}#sk-container-id-1 div.sk-container {/* jupyter's `normalize.less` sets `[hidden] { display: none; }` but bootstrap.min.css set `[hidden] { display: none !important; }` so we also need the `!important` here to be able to override the default hidden behavior on the sphinx rendered scikit-learn.org. See: https://github.com/scikit-learn/scikit-learn/issues/21755 */display: inline-block !important;position: relative;}#sk-container-id-1 div.sk-text-repr-fallback {display: none;}</style><div id=\"sk-container-id-1\" class=\"sk-top-container\"><div class=\"sk-text-repr-fallback\"><pre>LinearRegression()</pre><b>In a Jupyter environment, please rerun this cell to show the HTML representation or trust the notebook. <br />On GitHub, the HTML representation is unable to render, please try loading this page with nbviewer.org.</b></div><div class=\"sk-container\" hidden><div class=\"sk-item\"><div class=\"sk-estimator sk-toggleable\"><input class=\"sk-toggleable__control sk-hidden--visually\" id=\"sk-estimator-id-1\" type=\"checkbox\" checked><label for=\"sk-estimator-id-1\" class=\"sk-toggleable__label sk-toggleable__label-arrow\">LinearRegression</label><div class=\"sk-toggleable__content\"><pre>LinearRegression()</pre></div></div></div></div></div>"
            ]
          },
          "metadata": {},
          "execution_count": 41
        }
      ]
    },
    {
      "cell_type": "code",
      "source": [
        "print(\"m value \", lr_model.coef_ ,end=\" \")\n",
        "print(\"c value \",lr_model.intercept_)"
      ],
      "metadata": {
        "colab": {
          "base_uri": "https://localhost:8080/"
        },
        "id": "iI_IfCpnOK1A",
        "outputId": "21ee2d9c-0061-4c34-a07c-4983b01d485c"
      },
      "execution_count": 42,
      "outputs": [
        {
          "output_type": "stream",
          "name": "stdout",
          "text": [
            "m value  [[1.0009993]] c value  [-0.23603461]\n"
          ]
        }
      ]
    },
    {
      "cell_type": "code",
      "source": [
        "test_predictions = lr_model.predict(x_test)"
      ],
      "metadata": {
        "id": "PU79sWSOOZjR"
      },
      "execution_count": 43,
      "outputs": []
    },
    {
      "cell_type": "code",
      "source": [
        "plt.plot(x_test,test_predictions,\"+\")\n",
        "plt.plot(x_test,y_test,\".\")\n",
        "plt.show()"
      ],
      "metadata": {
        "colab": {
          "base_uri": "https://localhost:8080/",
          "height": 430
        },
        "id": "MThGUrweOg31",
        "outputId": "415fa4e5-c683-4d85-c773-86f5e3da4008"
      },
      "execution_count": 46,
      "outputs": [
        {
          "output_type": "display_data",
          "data": {
            "text/plain": [
              "<Figure size 640x480 with 1 Axes>"
            ],
            "image/png": "[encoded data removed]"
          },
          "metadata": {}
        }
      ]
    },
    {
      "cell_type": "code",
      "source": [
        "from sklearn.metrics import mean_squared_error\n",
        "\n",
        "cost=mean_squared_error(y_test,test_predictions)\n",
        "print(cost)"
      ],
      "metadata": {
        "colab": {
          "base_uri": "https://localhost:8080/"
        },
        "id": "fNPRhUmcOk9D",
        "outputId": "c9d9aca6-d833-42b8-c70e-2d9b3376c57d"
      },
      "execution_count": 48,
      "outputs": [
        {
          "output_type": "stream",
          "name": "stdout",
          "text": [
            "8.030031591835378\n"
          ]
        }
      ]
    },
    {
      "cell_type": "code",
      "source": [
        "cost=cost_function(y_test,test_prediction)\n",
        "print(cost)"
      ],
      "metadata": {
        "colab": {
          "base_uri": "https://localhost:8080/"
        },
        "id": "9-ObZL2BPL0D",
        "outputId": "1359b1c6-c14a-4602-aa61-c9d907988325"
      },
      "execution_count": 55,
      "outputs": [
        {
          "output_type": "stream",
          "name": "stdout",
          "text": [
            "8.005137054936666\n"
          ]
        }
      ]
    }
  ]
}